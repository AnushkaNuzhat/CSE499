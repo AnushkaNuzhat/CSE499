{
  "nbformat": 4,
  "nbformat_minor": 0,
  "metadata": {
    "colab": {
      "name": "Word sampling.ipynb",
      "provenance": []
    },
    "kernelspec": {
      "name": "python3",
      "display_name": "Python 3"
    },
    "language_info": {
      "name": "python"
    }
  },
  "cells": [
    {
      "cell_type": "code",
      "execution_count": null,
      "metadata": {
        "colab": {
          "base_uri": "https://localhost:8080/"
        },
        "id": "Bt-0aI_KMegn",
        "outputId": "0d06b612-57d3-4bc0-b07a-960214863fe8"
      },
      "outputs": [
        {
          "output_type": "stream",
          "name": "stdout",
          "text": [
            "['landy', 'legendary', 'york']\n"
          ]
        }
      ],
      "source": [
        "from random import sample\n",
        "\n",
        "list1 = ['landy', 'bannister', 'friends', 'landy', 'ralph', 'branca', 'bannister', 'bobby', 'thomson', 'newsday', 'bannister', 'new', 'york', 'giants', 'hitter', 'national', 'league', 'pennant', 'legendary', 'shot', 'world', 'landy', 'pitcher', 'fateful', 'inning', 'home', 'run', 'pitch', 'team', 'sorts'] \n",
        "  \n",
        "print(sample(list1,3))"
      ]
    }
  ]
}